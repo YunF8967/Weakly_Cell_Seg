{
 "cells": [
  {
   "cell_type": "code",
   "execution_count": 7,
   "metadata": {},
   "outputs": [],
   "source": [
    "from pycococreatortools import pycococreatortools\n",
    "import tifffile as tiff\n",
    "import cv2\n",
    "import os\n",
    "import numpy as np\n",
    "import json\n",
    "import datetime\n",
    "import matplotlib.pyplot\n"
   ]
  },
  {
   "cell_type": "code",
   "execution_count": 8,
   "metadata": {},
   "outputs": [],
   "source": [
    "def show_img(img):\n",
    "    cv2.imshow(\"img\", img)\n",
    "    cv2.waitKey()\n",
    "    cv2.destroyAllWindows()\n",
    "\n",
    "    # tiff.imshow(img)"
   ]
  },
  {
   "cell_type": "code",
   "execution_count": 9,
   "metadata": {},
   "outputs": [],
   "source": [
    "def inspect_img(img):\n",
    "    \n",
    "    # inspect\n",
    "    print(img.shape)\n",
    "    print(img.max())\n",
    "    print(img.dtype)\n",
    "    print(type(img))\n",
    "    for i in range(0, img.shape[0]):\n",
    "        for j in range(1, img.shape[1]):\n",
    "            if img[i, j] != 0:\n",
    "                print(img[i, j])\n"
   ]
  },
  {
   "cell_type": "code",
   "execution_count": 10,
   "metadata": {},
   "outputs": [
    {
     "name": "stdout",
     "output_type": "stream",
     "text": [
      "int16\n"
     ]
    },
    {
     "data": {
      "image/png": "[encoded data removed]",
      "text/plain": [
       "<Figure size 988.8x604.8 with 2 Axes>"
      ]
     },
     "metadata": {},
     "output_type": "display_data"
    }
   ],
   "source": [
    "def read_img(path):\n",
    "    img = tiff.imread(path) # np.ndarray\n",
    "\n",
    "    return img\n",
    "\n",
    "\n",
    "x = read_img(\"data\\cell-seg-data/tnbc_patch/ann_test\\Slide_09_1_0.tif\")\n",
    "tiff.imshow(x)\n",
    "print(x[0:256, 0:256].dtype)"
   ]
  },
  {
   "cell_type": "code",
   "execution_count": 11,
   "metadata": {},
   "outputs": [],
   "source": [
    "def generateCOCO(ROOT_DIR, IMAGE_DIR, ANNOTATION_DIR, PSEUDO_DIR, output_file):\n",
    "    INFO = {\n",
    "        \"description\": \"test\",\n",
    "        \"url\": \"\",\n",
    "        \"version\": \"0.1.0\",\n",
    "        \"year\": 2023,\n",
    "        \"contributor\": \"\",\n",
    "        \"date_created\": datetime.datetime.utcnow().isoformat(' ')\n",
    "    }\n",
    "\n",
    "    LICENSES = [\n",
    "        {\n",
    "            \"id\": 1,\n",
    "            \"name\": \"Attribution-NonCommercial-ShareAlike License\",\n",
    "            \"url\": \"http://creativecommons.org/licenses/by-nc-sa/2.0/\"\n",
    "        }\n",
    "    ]\n",
    "\n",
    "    CATEGORIES = [\n",
    "        {\n",
    "            'id': 0,\n",
    "            'name': 'background',\n",
    "            'supercategory': 'background',\n",
    "        },\n",
    "        {\n",
    "            'id': 1,\n",
    "            'name': 'cell',\n",
    "            'supercategory': 'cell',\n",
    "        }\n",
    "    ]\n",
    "\n",
    "    coco_output = {\n",
    "            \"info\": INFO,\n",
    "            \"licenses\": LICENSES,\n",
    "            \"categories\": CATEGORIES,\n",
    "            \"images\": [],\n",
    "            \"annotations\": []  # “一定要有cat=0的分类！但如果设bg=0，会使mAP值变小=> 改进：不设bg=0但把cell标签-1”\n",
    "        }\n",
    "    \n",
    "    image_id = 1\n",
    "    segmentation_id = 1\n",
    "    for root, _, files in os.walk(IMAGE_DIR):   # 这个outer loop或许可以删除？\n",
    "\n",
    "        for file in files:\n",
    "            basename_no_extension = os.path.splitext(file)[0]\n",
    "\n",
    "            img_path = os.path.join(IMAGE_DIR, basename_no_extension+\".png\")\n",
    "            ann_path = os.path.join(ANNOTATION_DIR, basename_no_extension+\".tif\")\n",
    "            pseudo_path = os.path.join(PSEUDO_DIR, basename_no_extension+\".tif\")\n",
    "            \n",
    "            # print(\"img path: \", img_path)\n",
    "            # print(\"ann path: \", ann_path)\n",
    "\n",
    "            # annotations[] - (1)\n",
    "            ann = tiff.imread(ann_path)\n",
    "            if os.path.exists(pseudo_path):\n",
    "                ann = tiff.imread(pseudo_path)\n",
    "                \n",
    "\n",
    "            values = np.unique(ann) # cell vals\n",
    "            values = np.delete(values, 0) # remove value of bg pixels\n",
    "            # print(\"values: \", values)\n",
    "\n",
    "            if len(values) == 0:\n",
    "                continue\n",
    "\n",
    "            # images[]\n",
    "            img = cv2.imread(img_path)\n",
    "            img_size = [img.shape[1], img.shape[0]]\n",
    "                #会影响pycococreatortools里的resize process；\n",
    "                # 也会影响self_segentor里的 training process\n",
    "\n",
    "            image_info = pycococreatortools.create_image_info(\n",
    "                image_id, file, img_size)\n",
    "            coco_output[\"images\"].append(image_info)\n",
    "\n",
    "            # annotations[] - (2)\n",
    "            for cell_id in values:\n",
    "                category_info = {'id': 1, 'is_crowd': 0}\n",
    "\n",
    "                ann_bimask = (ann == cell_id) * ann\n",
    "                ann_bimask[ann_bimask != 0] = 1\n",
    "                \n",
    "                annotation_info = pycococreatortools.create_annotation_info(\n",
    "                    segmentation_id, image_id, category_info, ann_bimask, \n",
    "                    img_size, tolerance=2)  \n",
    "                \n",
    "                if annotation_info is not None:\n",
    "                    coco_output[\"annotations\"].append(annotation_info)\n",
    "\n",
    "                segmentation_id = segmentation_id + 1\n",
    "\n",
    "            image_id = image_id + 1\n",
    "\n",
    "    with open(output_file, 'w') as output_json_file:\n",
    "        json.dump(coco_output, output_json_file)\n",
    "\n"
   ]
  },
  {
   "cell_type": "code",
   "execution_count": 13,
   "metadata": {},
   "outputs": [],
   "source": [
    "'''tnbc_patch'''\n",
    "root = 'data/cell-seg-data/tnbc_patch/'\n",
    "imgs = os.path.join(root, \"img_train\")\n",
    "ann = os.path.join(root, \"ann_train\")\n",
    "pseudo = os.path.join(root, \"ann_pseudo\")\n",
    "outputJson = os.path.join(root, \"tnbc_gtNpseudo.json\")\n",
    "generateCOCO(root, imgs, ann, pseudo, outputJson)\n"
   ]
  },
  {
   "cell_type": "code",
   "execution_count": 15,
   "metadata": {},
   "outputs": [],
   "source": [
    "'''fluo_patch'''\n",
    "root = 'data/cell-seg-data/fluo_patch/'\n",
    "imgs = os.path.join(root, \"img_train\")\n",
    "ann = os.path.join(root, \"ann_train\")\n",
    "pseudo = os.path.join(root, \"ann_pseudo\")\n",
    "outputJson = os.path.join(root, \"fluo_gtNpseudo.json\")\n",
    "generateCOCO(root, imgs, ann, pseudo, outputJson)\n"
   ]
  }
 ],
 "metadata": {
  "kernelspec": {
   "display_name": "dt2",
   "language": "python",
   "name": "python3"
  },
  "language_info": {
   "codemirror_mode": {
    "name": "ipython",
    "version": 3
   },
   "file_extension": ".py",
   "mimetype": "text/x-python",
   "name": "python",
   "nbconvert_exporter": "python",
   "pygments_lexer": "ipython3",
   "version": "3.7.16"
  },
  "orig_nbformat": 4
 },
 "nbformat": 4,
 "nbformat_minor": 2
}
